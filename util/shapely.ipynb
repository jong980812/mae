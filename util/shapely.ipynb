{
 "cells": [
  {
   "cell_type": "code",
   "execution_count": 30,
   "metadata": {},
   "outputs": [],
   "source": [
    "import os\n",
    "import PIL\n",
    "from PIL import Image\n",
    "import numpy as np\n",
    "import json\n",
    "import torch\n",
    "from torch.utils.data import Dataset, DataLoader\n",
    "import itertools\n",
    "from torchvision import datasets, transforms, models\n",
    "from custom_transform import ThresholdTransform,AddNoise,DetachWhite\n",
    "from einops import rearrange"
   ]
  },
  {
   "cell_type": "markdown",
   "metadata": {},
   "source": [
    "# Image Open"
   ]
  },
  {
   "cell_type": "code",
   "execution_count": 31,
   "metadata": {},
   "outputs": [],
   "source": [
    "image_path = './A-2-o3.jpg'\n",
    "image = Image.open(image_path)  #PIL로 이미지 오픈\n",
    "image = image.convert(\"L\")\n",
    "image = image.point(lambda p: p > 240 and 255)"
   ]
  },
  {
   "cell_type": "markdown",
   "metadata": {},
   "source": [
    "# Model\n"
   ]
  },
  {
   "cell_type": "code",
   "execution_count": 32,
   "metadata": {},
   "outputs": [
    {
     "name": "stdout",
     "output_type": "stream",
     "text": [
      "Load pre-trained checkpoint from: /data/jong980812/project/mae/result_ver2/All_5split/binary_240/OUT/01/checkpoint-29.pth\n",
      "<All keys matched successfully>\n"
     ]
    }
   ],
   "source": [
    "import torchvision.models as models\n",
    "model=models.efficientnet_b1(pretrained=True,progress=False)\n",
    "model.classifier[1] = torch.nn.Linear(1280, 2)\n",
    "import torchvision\n",
    "# model=torchvision.models.resnet18()\n",
    "# in_feat=model.fc.in_features\n",
    "# model.fc=torch.nn.Linear(in_feat,2)\n",
    "data_path='/data/datasets/asd/All_5split/01/val/TD/'\n",
    "# data_path='/data/datasets/ai_hub_sketch_4way/01/val/m_w'\n",
    "# data_path='/data/datasets/ai_hub/ai_hub_sketch_mw/01/val/w/'\n",
    "import random\n",
    "weight='/data/jong980812/project/mae/result_ver2/All_5split/binary_240/OUT/01/checkpoint-29.pth'\n",
    "checkpoint = torch.load(weight, map_location='cpu')\n",
    "print(\"Load pre-trained checkpoint from: %s\" % weight)\n",
    "checkpoint_model = checkpoint['model']\n",
    "state_dict = model.state_dict()\n",
    "msg = model.load_state_dict(checkpoint_model, strict=False)\n",
    "model.eval()\n",
    "print(msg)"
   ]
  },
  {
   "cell_type": "markdown",
   "metadata": {},
   "source": [
    "# Json Open"
   ]
  },
  {
   "cell_type": "code",
   "execution_count": 33,
   "metadata": {},
   "outputs": [
    {
     "name": "stdout",
     "output_type": "stream",
     "text": [
      "{'head': [[[202.5294117647059, 111.85294117647067], [1520.1764705882354, 1123.6176470588234]]], 'eye': [[[570.1764705882352, 608.9117647058823], [696.6470588235294, 838.3235294117648]], [[917.235294117647, 541.2647058823529], [1052.5294117647059, 820.6764705882352]]], 'nose': [[[743.7058823529411, 508.91176470588243], [867.235294117647, 935.3823529411765]]], 'ear': [[[205.47058823529414, 661.8529411764706], [537.8235294117646, 1123.6176470588234]], [[1202.5294117647059, 532.4411764705883], [1514.2941176470588, 938.3235294117648]]], 'mouth': [[[634.8823529411765, 850.0882352941177], [1034.8823529411766, 1053.0294117647059]]], 'hand': [[[381.94117647058823, 1329.5], [614.2941176470588, 1770.6764705882351]], [[1093.7058823529412, 1347.1470588235293], [1340.764705882353, 1785.3823529411761]]], 'foot': [[[543.7058823529411, 1861.8529411764703], [887.8235294117646, 2173.6176470588234]], [[928.9999999999999, 1903.0294117647059], [1179.0, 2123.6176470588234]]], 'upper_body': [[[386.14285714285717, 1065.2142857142858], [1340.764705882353, 1782.4411764705878]]], 'lower_body': [[[537.8235294117646, 1611.8529411764707], [1179.0, 2179.5]]], 'aaa': []}\n"
     ]
    }
   ],
   "source": [
    "json_path='./'\n",
    "json_name = image_path.split('/')[-1].split('.')[0] + \".json\" #! image 이름에서 자동으로 parsing\n",
    "part_json = {}\n",
    "part_name = [\"head\", \"eye\",\"nose\",\"ear\",\"mouth\",\"hand\",\"foot\",\"upper_body\",\"lower_body\",\"aaa\"]\n",
    "for part in part_name:\n",
    "    part_json[part]=[]\n",
    "with open(os.path.join(json_path, json_name), 'r') as f :   \n",
    "    boxes=json.load(f)['shapes']\n",
    "    for box in boxes:\n",
    "        part_json[box[\"label\"]].append(box[\"points\"])\n",
    "print(part_json)\n",
    "#! ASD의 경우 xmin, ymin , xmax, ymax\n",
    "# part_anns = part_json[part] #@ 여기에서 한번에 모든 part 뽑자. \n",
    "# coords = [part_anns[0][0], part_anns[0][1], part_anns[1][0], part_anns[1][1]]"
   ]
  },
  {
   "cell_type": "markdown",
   "metadata": {},
   "source": [
    "# Function\n"
   ]
  },
  {
   "cell_type": "code",
   "execution_count": 34,
   "metadata": {},
   "outputs": [],
   "source": [
    "def replace_part(img,image_path,replace_img,part,is_black=False):\n",
    "    json_path='/data/datasets/asd/asd_all_5folds_annotations'\n",
    "    json_name = image_path.split('/')[-1].split('.')[0] + \".json\"\n",
    "    part_json = {}\n",
    "    with open(os.path.join(json_path, json_name), 'r') as f :   \n",
    "        boxes=json.load(f)['shapes']\n",
    "        for box in boxes:\n",
    "            part_json[box[\"label\"]]=box[\"points\"]\n",
    "    #! 0: 사람 전체 1: 머리 2:얼굴 3:눈 4:눈\n",
    "        \n",
    "    part_anns = part_json[part]\n",
    "    \n",
    "    coords = [int(part_anns[0][0]), int(part_anns[0][1]), int(part_anns[1][0]), int(part_anns[1][1])]\n",
    "    xmin, ymin, xmax, ymax = coords\n",
    "    # xmin, ymin = int(x), int(y)\n",
    "    # xmax, ymax = int(x + w), int(y + h)\n",
    "    # print(coords)\n",
    "    box_region = img.crop(coords)\n",
    "    black_box = 255*np.ones(box_region.size)\n",
    "    black_box = Image.fromarray(black_box)\n",
    "    if box_region.size != replace_img.size:\n",
    "        replace_img= replace_img.resize(box_region.size)\n",
    "        black_box = black_box.resize(box_region.size)\n",
    "        print('replace_part is resized')\n",
    "    \n",
    "    if is_black:\n",
    "        img.paste(black_box,coords)\n",
    "    else:\n",
    "        img.paste(replace_img,coords)\n",
    "    # return sample_img"
   ]
  },
  {
   "cell_type": "code",
   "execution_count": 35,
   "metadata": {},
   "outputs": [],
   "source": [
    "class shapely_part(Dataset):\n",
    "    def __init__(self, data_folder, json_folder, binary_thresholding=None, transform=None):\n",
    "        self.json_folder = json_folder\n",
    "        self.data_folder = data_folder\n",
    "        self.binary_thresholding=binary_thresholding\n",
    "        self.transform = transform\n",
    "        self.image_paths = [os.path.join(data_folder, f) for f in os.listdir(data_folder) if f.endswith(('.png', '.jpg', '.jpeg', '.gif'))]\n",
    "        self.json_paths = [image_path.split('/')[-1].split('.')[0] + \".json\" for image_path in self.image_paths] #! Get json path from image paths.\n",
    "        print(self.image_paths)\n",
    "    def get_part_json(self, json_file_path, part_name):\n",
    "        '''\n",
    "        Get part dictionary from json path\n",
    "        '''\n",
    "        part_json = {}\n",
    "        \n",
    "        for part in part_name:\n",
    "            part_json[part] = []\n",
    "        with open(json_file_path, 'r') as f:\n",
    "            boxes = json.load(f)['shapes']\n",
    "            for box in boxes:\n",
    "                part_json[box[\"label\"]].append(box[\"points\"])\n",
    "    \n",
    "        for key in part_json:#! 빈 애들은 None으로 처리해서 없다고 판단.\n",
    "            if not part_json[key]:\n",
    "                part_json[key] = None\n",
    "\n",
    "        return part_json\n",
    "    def get_coords(self, part):\n",
    "        extracted_coordinates = []\n",
    "        if part is None:\n",
    "            return None\n",
    "        elif len(part) == 1:\n",
    "            # print(part[0][0])\n",
    "            xmin, ymin = list(map(int,part[0][0]))\n",
    "            xmax, ymax = list(map(int,part[0][1]))\n",
    "            return [[xmin,ymin,xmax,ymax]]#아래 2일경우와 통일하기 위해 이중 리스트로 \n",
    "        elif len(part) == 2:\n",
    "            #! Eye, Ear, hand, foot -> These have 2 part, return list\n",
    "            for a in part: \n",
    "                # print(a)\n",
    "                xmin, ymin = list(map(int,a[0]))\n",
    "                xmax, ymax = list(map(int,a[1]))\n",
    "                extracted_coordinates.append([xmin,ymin,xmax,ymax])\n",
    "            return extracted_coordinates\n",
    "        else:\n",
    "            exit(0)\n",
    "    def get_white_image(self,size):\n",
    "        return Image.new(\"RGB\", size, (255, 255, 255))\n",
    "    def get_empty_face(self,img, part_imgs, part_json):\n",
    "        '''\n",
    "        empty_face is face detached 'eye','nose','mouth','ear'\n",
    "        '''\n",
    "        head_json = part_json['head']\n",
    "        head_coords = self.get_coords(head_json)\n",
    "        head = part_imgs['head'][0]#!\n",
    "        white_image = self.get_white_image(img.size)\n",
    "        white_image.paste(head,head_coords[0])\n",
    "        for part in ['eye','nose','mouth','ear']:\n",
    "            if part_json[part] is not None:\n",
    "              part_coords= self.get_coords(part_json[part])\n",
    "              part_img = part_imgs[part]\n",
    "              if part in ['eye','ear']:   \n",
    "                  white_image.paste(self.get_white_image(part_img[0].size),part_coords[0])\n",
    "                  white_image.paste(self.get_white_image(part_img[1].size),part_coords[1])\n",
    "              else:\n",
    "                  white_image.paste(self.get_white_image(part_img[0].size),part_coords[0])\n",
    "                  \n",
    "        return white_image \n",
    "    def get_empty_face(self,img, part_imgs, part_json):\n",
    "        '''\n",
    "        empty_face is face detached 'eye','nose','mouth','ear'\n",
    "        '''\n",
    "        head_json = part_json['head']\n",
    "        head_coords = self.get_coords(head_json)\n",
    "        head = part_imgs['head'][0]#!\n",
    "        white_image = self.get_white_image(img.size)\n",
    "        white_image.paste(head,head_coords[0])\n",
    "        for part in ['eye','nose','mouth','ear']:\n",
    "            if part_json[part] is not None:\n",
    "              part_coords= self.get_coords(part_json[part])\n",
    "              part_img = part_imgs[part]\n",
    "              if part in ['eye','ear']:   \n",
    "                  white_image.paste(self.get_white_image(part_img[0].size),part_coords[0])\n",
    "                  white_image.paste(self.get_white_image(part_img[1].size),part_coords[1])\n",
    "              else:\n",
    "                  white_image.paste(self.get_white_image(part_img[0].size),part_coords[0])\n",
    "        # white_image.show()\n",
    "        return white_image\n",
    "    def get_empty_lower_body(self,img, part_imgs, part_json):\n",
    "        '''\n",
    "        empty_lower_body detacched foot\n",
    "        '''\n",
    "        lower_body_json = part_json['lower_body']\n",
    "        lower_body_coords = self.get_coords(lower_body_json)\n",
    "        lower_body = part_imgs['lower_body'][0]#!\n",
    "        white_image = self.get_white_image(img.size)\n",
    "        white_image.paste(lower_body,lower_body_coords[0])\n",
    "        if part_json[\"foot\"] is not None:\n",
    "            part_coords= self.get_coords(part_json[\"foot\"])\n",
    "            part_img = part_imgs[\"foot\"] \n",
    "            white_image.paste(self.get_white_image(part_img[0].size),part_coords[0])\n",
    "            white_image.paste(self.get_white_image(part_img[1].size),part_coords[1])\n",
    "        \n",
    "        return white_image.crop(lower_body_coords[0])\n",
    "    def get_empty_upper_body(self,img, part_imgs, part_json):\n",
    "        '''\n",
    "        empty_lower_body detacched foot\n",
    "        '''\n",
    "        upper_body_json = part_json['upper_body']\n",
    "        upper_body_coords = self.get_coords(upper_body_json)\n",
    "        upper_body = part_imgs['upper_body'][0]#!\n",
    "        white_image = self.get_white_image(img.size)\n",
    "        white_image.paste(upper_body,upper_body_coords[0])\n",
    "        if part_json[\"hand\"] is not None:\n",
    "            part_coords= self.get_coords(part_json[\"hand\"])\n",
    "            part_img = part_imgs[\"hand\"] \n",
    "            white_image.paste(self.get_white_image(part_img[0].size),part_coords[0])\n",
    "            white_image.paste(self.get_white_image(part_img[1].size),part_coords[1])\n",
    "        # white_image.crop(upper_body_coords[0]).show()\n",
    "        return white_image.crop(upper_body_coords[0])\n",
    "    \n",
    "    def create_new_images(self,img, binary_combination, part_imgs ):\n",
    "        #! Making New images\n",
    "        original_img = img\n",
    "        empty_face_active, eye_active, nose_active, ear_active, mouth_active, hand_active, foot_active = binary_combination\n",
    "        # New white image\n",
    "\n",
    "        new_image = self.get_white_image(original_img.size)\n",
    "        if empty_face_active:\n",
    "            new_image.paste(part_imgs[\"empty_face\"][0],(0,0))\n",
    "        # print(part_json['lower_body'][0])\n",
    "        # print(part_imgs[\"empty_lower_body\"][0].size,self.get_coords(part_json['lower_body'])[0] )\n",
    "        new_image.paste(part_imgs[\"empty_lower_body\"][0], self.get_coords(part_json['lower_body'])[0])  # 원하는 위치에 붙임\n",
    "        new_image.paste(part_imgs[\"empty_upper_body\"][0], self.get_coords(part_json['upper_body'])[0])  # 원하는 위치에 붙임\n",
    "        # 각 파트 이미지를 읽어와서 새로운 이미지에 붙임\n",
    "        if eye_active and part_imgs[\"eye\"] is not None:\n",
    "            new_image.paste(part_imgs[\"eye\"][0], self.get_coords(part_json['eye'])[0])  # 원하는 위치에 붙임\n",
    "            new_image.paste(part_imgs[\"eye\"][1], self.get_coords(part_json['eye'])[1])  # 원하는 위치에 붙임 \n",
    "        if nose_active and part_imgs[\"nose\"] is not None:\n",
    "            new_image.paste(part_imgs[\"nose\"][0], self.get_coords(part_json['nose'])[0])  # 원하는 위치에 붙임 \n",
    "        if ear_active and part_imgs[\"ear\"] is not None:\n",
    "            new_image.paste(part_imgs[\"ear\"][0], self.get_coords(part_json['ear'])[0])  # 원하는 위치에 붙임 \n",
    "            new_image.paste(part_imgs[\"ear\"][1], self.get_coords(part_json['ear'])[1])  # 원하는 위치에 붙임 \n",
    "        if mouth_active and part_imgs[\"mouth\"] is not None:\n",
    "            new_image.paste(part_imgs[\"mouth\"][0], self.get_coords(part_json['mouth'])[0])  # 원하는 위치에 붙임 \n",
    "        if hand_active and part_imgs[\"hand\"] is not None:\n",
    "            new_image.paste(part_imgs[\"hand\"][0], self.get_coords(part_json['hand'])[0])  # 원하는 위치에 붙임 \n",
    "            new_image.paste(part_imgs[\"hand\"][1], self.get_coords(part_json['hand'])[1])  # 원하는 위치에 붙임 \n",
    "        if foot_active and part_imgs[\"foot\"] is not None:\n",
    "            new_image.paste(part_imgs[\"foot\"][0], self.get_coords(part_json['foot'])[0])  # 원하는 위치에 붙임 \n",
    "            new_image.paste(part_imgs[\"foot\"][1], self.get_coords(part_json['foot'])[1])  # 원하는 위치에 붙임 \n",
    "        # 다른 파트들에 대해서도 같은 방식으로 처리\n",
    "        return new_image\n",
    "    def __len__(self):\n",
    "        return len(self.image_paths)\n",
    "    def __getitem__(self, idx):\n",
    "        img_path = self.image_paths[idx]\n",
    "        print(img_path)\n",
    "        label = 0 if (img_path.split('/')[-1].split('.')[0].split('-')[0])=='A' else 1\n",
    "        image = Image.open(img_path)\n",
    "        part_name = [\"head\", \"eye\", \"nose\", \"ear\", \"mouth\", \"hand\", \"foot\", \"upper_body\", \"lower_body\"]\n",
    "        if self.binary_thresholding:\n",
    "            image = image.convert(\"L\")#! Convert grayscale\n",
    "            image = image.point(lambda p: p > self.binary_thresholding and 255)\n",
    "        part_json = self.get_part_json(os.path.join(self.json_folder,self.json_paths[idx]),part_name=part_name)\n",
    "        part_imgs = {}\n",
    "        for part in part_name:#모든 part를 다시 dict으로 리턴하기위함.\n",
    "            part_imgs[part]=[]\n",
    "            # print(part)\n",
    "            coords = self.get_coords(part_json[part])\n",
    "            # print(coords)\n",
    "            if coords is None:\n",
    "                part_imgs[part].append(None)    \n",
    "                \n",
    "            elif len(coords) ==1:\n",
    "                part_imgs[part].append(image.crop(coords[0]))    \n",
    "            elif len(coords) == 2:\n",
    "                part_imgs[part].append(image.crop(coords[0]))    \n",
    "                part_imgs[part].append(image.crop(coords[1]))    \n",
    "        empty_face = self.get_empty_face(image,part_imgs,part_json)\n",
    "        # empty_face.show()\n",
    "        empty_upper_body = self.get_empty_upper_body(image,part_imgs,part_json)\n",
    "        empty_lower_body = self.get_empty_lower_body(image,part_imgs,part_json)\n",
    "        part_imgs['empty_face']=[empty_face]\n",
    "        part_imgs['empty_lower_body']=[empty_lower_body]\n",
    "        part_imgs['empty_upper_body']=[empty_upper_body]\n",
    "        part_combinations = list(itertools.product([0, 1], repeat=7))\n",
    "        new_imgs = []\n",
    "        for combination in part_combinations:\n",
    "            # print(combination)\n",
    "            new_img=self.create_new_images(img=image,binary_combination=combination, part_imgs=part_imgs)\n",
    "            if self.transform:\n",
    "                new_img=self.transform(new_img)\n",
    "            new_imgs.append(new_img.unsqueeze(0))\n",
    "        new_imgs = torch.cat(new_imgs,dim=0)\n",
    "        return new_imgs,label,part_json, "
   ]
  },
  {
   "cell_type": "code",
   "execution_count": 36,
   "metadata": {},
   "outputs": [],
   "source": [
    "# import gc\n",
    "# gc.collect()"
   ]
  },
  {
   "cell_type": "code",
   "execution_count": 37,
   "metadata": {},
   "outputs": [
    {
     "name": "stdout",
     "output_type": "stream",
     "text": [
      "['./A-2-o3.jpg', './B-1-o3.jpg', './A-2-o3_2.jpg']\n"
     ]
    }
   ],
   "source": [
    "transform= transforms.Compose([transforms.Resize((224,168)),transforms.ToTensor()])\n",
    "dataset = shapely_part('./','./',240,transform=transform)"
   ]
  },
  {
   "cell_type": "code",
   "execution_count": 38,
   "metadata": {},
   "outputs": [],
   "source": [
    "data_loader=DataLoader(dataset,2,num_workers=8)\n"
   ]
  },
  {
   "cell_type": "code",
   "execution_count": 39,
   "metadata": {},
   "outputs": [],
   "source": [
    "# from itertools import product\n",
    "\n",
    "# n = 6  # digit의 개수\n",
    "# digits = [0, 1]  # 각 digit의 가능한 값\n",
    "\n",
    "# # 경우의 수 생성\n",
    "# part_combinations = list(product(digits, repeat=n))\n",
    "\n",
    "# def binary_to_decimal(binary_tuple):\n",
    "#     decimal_value = 0\n",
    "#     binary_length = len(binary_tuple)\n",
    "\n",
    "#     for i, bit in enumerate(binary_tuple):\n",
    "#         decimal_value += bit * (2 ** (binary_length - i - 1))\n",
    "\n",
    "#     return decimal_value\n",
    "# def decimal_to_binary(decimal_value, num_bits):\n",
    "#     binary_tuple = []\n",
    "    \n",
    "#     for i in range(num_bits):\n",
    "#         bit = (decimal_value >> (num_bits - i - 1)) & 1\n",
    "#         binary_tuple.append(bit)\n",
    "    \n",
    "#     return tuple(binary_tuple)\n",
    "# def count_ones(binary_tuple):\n",
    "#     count = 0\n",
    "#     for bit in binary_tuple:\n",
    "#         if bit == 1:\n",
    "#             count += 1\n",
    "#     return count\n",
    "# index_to_insert = 1  # 두 번째 위치에 추가하려면 인덱스 1을 사용합니다.\n",
    "# all_ordered_pair=[]\n",
    "# for index in range(7):\n",
    "#     ordered_pair=[] \n",
    "#     index_to_insert = index\n",
    "#     for combi in part_combinations:\n",
    "#         insert_value = [0,1]\n",
    "#         new_combi_0= combi[:index_to_insert] + (insert_value[0],) + combi[index_to_insert:]\n",
    "#         new_combi_1= combi[:index_to_insert] + (insert_value[1],) + combi[index_to_insert:]\n",
    "#         ordered_pair.append([binary_to_decimal(new_combi_0),binary_to_decimal(new_combi_1)])\n",
    "#     all_ordered_pair.append(ordered_pair)\n",
    "    \n",
    "\n",
    "# all_ordered_pair=torch.Tensor(all_ordered_pair)"
   ]
  },
  {
   "cell_type": "code",
   "execution_count": 40,
   "metadata": {},
   "outputs": [
    {
     "name": "stdout",
     "output_type": "stream",
     "text": [
      "./A-2-o3.jpg\n",
      "./A-2-o3_2.jpg"
     ]
    },
    {
     "name": "stdout",
     "output_type": "stream",
     "text": [
      "\n",
      "./B-1-o3.jpg\n"
     ]
    },
    {
     "ename": "ValueError",
     "evalue": "Caught ValueError in DataLoader worker process 0.\nOriginal Traceback (most recent call last):\n  File \"/data/jong980812/anaconda3/envs/asd/lib/python3.8/site-packages/torch/utils/data/_utils/worker.py\", line 287, in _worker_loop\n    data = fetcher.fetch(index)\n  File \"/data/jong980812/anaconda3/envs/asd/lib/python3.8/site-packages/torch/utils/data/_utils/fetch.py\", line 49, in fetch\n    data = [self.dataset[idx] for idx in possibly_batched_index]\n  File \"/data/jong980812/anaconda3/envs/asd/lib/python3.8/site-packages/torch/utils/data/_utils/fetch.py\", line 49, in <listcomp>\n    data = [self.dataset[idx] for idx in possibly_batched_index]\n  File \"/tmp/ipykernel_788925/885358496.py\", line 191, in __getitem__\n    new_img=self.create_new_images(img=image,binary_combination=combination, part_imgs=part_imgs)\n  File \"/tmp/ipykernel_788925/885358496.py\", line 133, in create_new_images\n    new_image.paste(part_imgs[\"empty_lower_body\"][0], self.get_coords(part_json['lower_body'])[0])  # 원하는 위치에 붙임\n  File \"/data/jong980812/anaconda3/envs/asd/lib/python3.8/site-packages/PIL/Image.py\", line 1527, in paste\n    self.im.paste(im, box)\nValueError: images do not match\n",
     "output_type": "error",
     "traceback": [
      "\u001b[0;31m---------------------------------------------------------------------------\u001b[0m",
      "\u001b[0;31mValueError\u001b[0m                                Traceback (most recent call last)",
      "\u001b[1;32m/data/jong980812/project/mae/util/shapely.ipynb Cell 15\u001b[0m line \u001b[0;36m2\n\u001b[1;32m      <a href='vscode-notebook-cell://ssh-remote%2Bmoana/data/jong980812/project/mae/util/shapely.ipynb#X20sdnNjb2RlLXJlbW90ZQ%3D%3D?line=0'>1</a>\u001b[0m device \u001b[39m=\u001b[39m torch\u001b[39m.\u001b[39mdevice(\u001b[39m\"\u001b[39m\u001b[39mcuda\u001b[39m\u001b[39m\"\u001b[39m \u001b[39mif\u001b[39;00m torch\u001b[39m.\u001b[39mcuda\u001b[39m.\u001b[39mis_available() \u001b[39melse\u001b[39;00m \u001b[39m\"\u001b[39m\u001b[39mcpu\u001b[39m\u001b[39m\"\u001b[39m)\n\u001b[0;32m----> <a href='vscode-notebook-cell://ssh-remote%2Bmoana/data/jong980812/project/mae/util/shapely.ipynb#X20sdnNjb2RlLXJlbW90ZQ%3D%3D?line=1'>2</a>\u001b[0m \u001b[39mfor\u001b[39;00m new_imgs,label,_ \u001b[39min\u001b[39;00m data_loader:\n\u001b[1;32m      <a href='vscode-notebook-cell://ssh-remote%2Bmoana/data/jong980812/project/mae/util/shapely.ipynb#X20sdnNjb2RlLXJlbW90ZQ%3D%3D?line=2'>3</a>\u001b[0m     \u001b[39mprint\u001b[39m(new_imgs\u001b[39m.\u001b[39mshape)\n\u001b[1;32m      <a href='vscode-notebook-cell://ssh-remote%2Bmoana/data/jong980812/project/mae/util/shapely.ipynb#X20sdnNjb2RlLXJlbW90ZQ%3D%3D?line=3'>4</a>\u001b[0m     input_data \u001b[39m=\u001b[39m new_imgs\n",
      "File \u001b[0;32m/data/jong980812/anaconda3/envs/asd/lib/python3.8/site-packages/torch/utils/data/dataloader.py:521\u001b[0m, in \u001b[0;36m_BaseDataLoaderIter.__next__\u001b[0;34m(self)\u001b[0m\n\u001b[1;32m    519\u001b[0m \u001b[39mif\u001b[39;00m \u001b[39mself\u001b[39m\u001b[39m.\u001b[39m_sampler_iter \u001b[39mis\u001b[39;00m \u001b[39mNone\u001b[39;00m:\n\u001b[1;32m    520\u001b[0m     \u001b[39mself\u001b[39m\u001b[39m.\u001b[39m_reset()\n\u001b[0;32m--> 521\u001b[0m data \u001b[39m=\u001b[39m \u001b[39mself\u001b[39;49m\u001b[39m.\u001b[39;49m_next_data()\n\u001b[1;32m    522\u001b[0m \u001b[39mself\u001b[39m\u001b[39m.\u001b[39m_num_yielded \u001b[39m+\u001b[39m\u001b[39m=\u001b[39m \u001b[39m1\u001b[39m\n\u001b[1;32m    523\u001b[0m \u001b[39mif\u001b[39;00m \u001b[39mself\u001b[39m\u001b[39m.\u001b[39m_dataset_kind \u001b[39m==\u001b[39m _DatasetKind\u001b[39m.\u001b[39mIterable \u001b[39mand\u001b[39;00m \\\n\u001b[1;32m    524\u001b[0m         \u001b[39mself\u001b[39m\u001b[39m.\u001b[39m_IterableDataset_len_called \u001b[39mis\u001b[39;00m \u001b[39mnot\u001b[39;00m \u001b[39mNone\u001b[39;00m \u001b[39mand\u001b[39;00m \\\n\u001b[1;32m    525\u001b[0m         \u001b[39mself\u001b[39m\u001b[39m.\u001b[39m_num_yielded \u001b[39m>\u001b[39m \u001b[39mself\u001b[39m\u001b[39m.\u001b[39m_IterableDataset_len_called:\n",
      "File \u001b[0;32m/data/jong980812/anaconda3/envs/asd/lib/python3.8/site-packages/torch/utils/data/dataloader.py:1203\u001b[0m, in \u001b[0;36m_MultiProcessingDataLoaderIter._next_data\u001b[0;34m(self)\u001b[0m\n\u001b[1;32m   1201\u001b[0m \u001b[39melse\u001b[39;00m:\n\u001b[1;32m   1202\u001b[0m     \u001b[39mdel\u001b[39;00m \u001b[39mself\u001b[39m\u001b[39m.\u001b[39m_task_info[idx]\n\u001b[0;32m-> 1203\u001b[0m     \u001b[39mreturn\u001b[39;00m \u001b[39mself\u001b[39;49m\u001b[39m.\u001b[39;49m_process_data(data)\n",
      "File \u001b[0;32m/data/jong980812/anaconda3/envs/asd/lib/python3.8/site-packages/torch/utils/data/dataloader.py:1229\u001b[0m, in \u001b[0;36m_MultiProcessingDataLoaderIter._process_data\u001b[0;34m(self, data)\u001b[0m\n\u001b[1;32m   1227\u001b[0m \u001b[39mself\u001b[39m\u001b[39m.\u001b[39m_try_put_index()\n\u001b[1;32m   1228\u001b[0m \u001b[39mif\u001b[39;00m \u001b[39misinstance\u001b[39m(data, ExceptionWrapper):\n\u001b[0;32m-> 1229\u001b[0m     data\u001b[39m.\u001b[39;49mreraise()\n\u001b[1;32m   1230\u001b[0m \u001b[39mreturn\u001b[39;00m data\n",
      "File \u001b[0;32m/data/jong980812/anaconda3/envs/asd/lib/python3.8/site-packages/torch/_utils.py:434\u001b[0m, in \u001b[0;36mExceptionWrapper.reraise\u001b[0;34m(self)\u001b[0m\n\u001b[1;32m    430\u001b[0m \u001b[39mexcept\u001b[39;00m \u001b[39mTypeError\u001b[39;00m:\n\u001b[1;32m    431\u001b[0m     \u001b[39m# If the exception takes multiple arguments, don't try to\u001b[39;00m\n\u001b[1;32m    432\u001b[0m     \u001b[39m# instantiate since we don't know how to\u001b[39;00m\n\u001b[1;32m    433\u001b[0m     \u001b[39mraise\u001b[39;00m \u001b[39mRuntimeError\u001b[39;00m(msg) \u001b[39mfrom\u001b[39;00m \u001b[39mNone\u001b[39;00m\n\u001b[0;32m--> 434\u001b[0m \u001b[39mraise\u001b[39;00m exception\n",
      "\u001b[0;31mValueError\u001b[0m: Caught ValueError in DataLoader worker process 0.\nOriginal Traceback (most recent call last):\n  File \"/data/jong980812/anaconda3/envs/asd/lib/python3.8/site-packages/torch/utils/data/_utils/worker.py\", line 287, in _worker_loop\n    data = fetcher.fetch(index)\n  File \"/data/jong980812/anaconda3/envs/asd/lib/python3.8/site-packages/torch/utils/data/_utils/fetch.py\", line 49, in fetch\n    data = [self.dataset[idx] for idx in possibly_batched_index]\n  File \"/data/jong980812/anaconda3/envs/asd/lib/python3.8/site-packages/torch/utils/data/_utils/fetch.py\", line 49, in <listcomp>\n    data = [self.dataset[idx] for idx in possibly_batched_index]\n  File \"/tmp/ipykernel_788925/885358496.py\", line 191, in __getitem__\n    new_img=self.create_new_images(img=image,binary_combination=combination, part_imgs=part_imgs)\n  File \"/tmp/ipykernel_788925/885358496.py\", line 133, in create_new_images\n    new_image.paste(part_imgs[\"empty_lower_body\"][0], self.get_coords(part_json['lower_body'])[0])  # 원하는 위치에 붙임\n  File \"/data/jong980812/anaconda3/envs/asd/lib/python3.8/site-packages/PIL/Image.py\", line 1527, in paste\n    self.im.paste(im, box)\nValueError: images do not match\n"
     ]
    }
   ],
   "source": [
    "device = torch.device(\"cuda\" if torch.cuda.is_available() else \"cpu\")\n",
    "for new_imgs,label,_ in data_loader:\n",
    "    print(new_imgs.shape)\n",
    "    input_data = new_imgs\n",
    "    print('complete')\n",
    "    # batch_size = input_data.shape[0]\n",
    "    # input_data = rearrange(input_data,  'b t c h w -> (b t) c h w')\n",
    "    \n",
    "    # model.to(device)\n",
    "    # input_data.to(device)\n",
    "    # model.eval()\n",
    "    # with torch.no_grad():\n",
    "    #     output=model(input_data)\n",
    "    # output = rearrange(output, '(b t) o -> b t o', b=batch_size) # batch_size, 128, output(2)\n",
    "    # print(label)\n",
    "    # correct_output = output[:,:,label].squeeze(-1)# Take correct logits, and last dimension squeeze (b, 128)\n"
   ]
  },
  {
   "cell_type": "code",
   "execution_count": null,
   "metadata": {},
   "outputs": [
    {
     "ename": "NameError",
     "evalue": "name 'new_imgs' is not defined",
     "output_type": "error",
     "traceback": [
      "\u001b[0;31m---------------------------------------------------------------------------\u001b[0m",
      "\u001b[0;31mNameError\u001b[0m                                 Traceback (most recent call last)",
      "\u001b[1;32m/data/jong980812/project/mae/util/shapely.ipynb Cell 16\u001b[0m line \u001b[0;36m2\n\u001b[1;32m      <a href='vscode-notebook-cell://ssh-remote%2Bmoana/data/jong980812/project/mae/util/shapely.ipynb#X21sdnNjb2RlLXJlbW90ZQ%3D%3D?line=0'>1</a>\u001b[0m topil\u001b[39m=\u001b[39mtransforms\u001b[39m.\u001b[39mToPILImage()\n\u001b[0;32m----> <a href='vscode-notebook-cell://ssh-remote%2Bmoana/data/jong980812/project/mae/util/shapely.ipynb#X21sdnNjb2RlLXJlbW90ZQ%3D%3D?line=1'>2</a>\u001b[0m topil(new_imgs[\u001b[39m0\u001b[39m][\u001b[39m0\u001b[39m])\n",
      "\u001b[0;31mNameError\u001b[0m: name 'new_imgs' is not defined"
     ]
    }
   ],
   "source": [
    "topil=transforms.ToPILImage()\n",
    "topil(new_imgs[0][0])"
   ]
  },
  {
   "cell_type": "code",
   "execution_count": null,
   "metadata": {},
   "outputs": [
    {
     "ename": "NameError",
     "evalue": "name 'new_imgs' is not defined",
     "output_type": "error",
     "traceback": [
      "\u001b[0;31m---------------------------------------------------------------------------\u001b[0m",
      "\u001b[0;31mNameError\u001b[0m                                 Traceback (most recent call last)",
      "\u001b[1;32m/data/jong980812/project/mae/util/shapely.ipynb Cell 17\u001b[0m line \u001b[0;36m1\n\u001b[0;32m----> <a href='vscode-notebook-cell://ssh-remote%2Bmoana/data/jong980812/project/mae/util/shapely.ipynb#X22sdnNjb2RlLXJlbW90ZQ%3D%3D?line=0'>1</a>\u001b[0m new_imgs\u001b[39m.\u001b[39mshape\n",
      "\u001b[0;31mNameError\u001b[0m: name 'new_imgs' is not defined"
     ]
    }
   ],
   "source": [
    "new_imgs.shape"
   ]
  },
  {
   "cell_type": "code",
   "execution_count": null,
   "metadata": {},
   "outputs": [],
   "source": [
    "shapely_values = torch.zeros_like(all_ordered_pair, dtype=torch.float32)\n",
    "\n",
    "# 각 ordered pair에 대한 값을 가져와 shapely_values에 저장\n",
    "for a,ordered_pairs in enumerate(all_ordered_pair):\n",
    "    for i, ordered_pair in enumerate(ordered_pairs):\n",
    "        # ordered_pair를 인덱스로 사용하여 correct_output에서 값을 가져옴\n",
    "        indices = ordered_pair  # ordered_pair를 텐서로 변환\n",
    "        print(indices)\n",
    "        values1 = correct_output[0][int(indices[0])]\n",
    "        values2 = correct_output[0][int(indices[1])]  # correct_output에서 해당 위치의 값 가져오기\n",
    "        print(values1,values2)\n",
    "        shapely_values[a,i] = torch.cat([values1.unsqueeze(0),values2.unsqueeze(0)],dim=0)\n",
    "\n",
    "# shapely_values의 shape를 확인\n",
    "print(shapely_values.shape)"
   ]
  },
  {
   "cell_type": "code",
   "execution_count": null,
   "metadata": {},
   "outputs": [],
   "source": [
    "torch.tensor(all_ordered_pair).shape"
   ]
  },
  {
   "cell_type": "code",
   "execution_count": null,
   "metadata": {},
   "outputs": [],
   "source": [
    "shapely_values"
   ]
  },
  {
   "cell_type": "code",
   "execution_count": null,
   "metadata": {},
   "outputs": [],
   "source": [
    "label"
   ]
  },
  {
   "cell_type": "code",
   "execution_count": null,
   "metadata": {},
   "outputs": [],
   "source": [
    "img=Image.open('./B-1-o3.jpg')\n",
    "part_name = [\"head\", \"eye\", \"nose\", \"ear\", \"mouth\", \"hand\", \"foot\", \"upper_body\", \"lower_body\"]\n",
    "part_json = dataset.get_part_json('B-1-o3.json',part_name)\n",
    "dataset.get_empty_lower_body()"
   ]
  },
  {
   "cell_type": "code",
   "execution_count": null,
   "metadata": {},
   "outputs": [
    {
     "data": {
      "text/plain": [
       "{'head': [[[42.91860465116278, 7.011627906976713],\n",
       "   [411.5232558139535, 388.40697674418607]]],\n",
       " 'eye': [[[119.66279069767441, 268.6395348837209], [254.546511627907, 360.5]],\n",
       "  [[313.84883720930236, 234.91860465116275],\n",
       "   [388.26744186046517, 274.45348837209303]]],\n",
       " 'nose': None,\n",
       " 'ear': None,\n",
       " 'mouth': [[[268.5, 297.7093023255814],\n",
       "   [326.6395348837209, 340.7325581395349]]],\n",
       " 'hand': [[[118.5, 653.5232558139535], [174.3139534883721, 717.4767441860465]],\n",
       "  [[359.1976744186046, 629.1046511627907],\n",
       "   [411.5232558139535, 697.7093023255813]]],\n",
       " 'foot': [[[260.3604651162791, 1025.6162790697674],\n",
       "   [309.1976744186046, 1079.1046511627908]],\n",
       "  [[313.84883720930236, 1036.0813953488373],\n",
       "   [366.1744186046511, 1094.2209302325582]]],\n",
       " 'upper_body': [[[115.01162790697674, 368.6395348837209],\n",
       "   [418.5, 718.6395348837209]]],\n",
       " 'lower_body': [[[254.546511627907, 589.5697674418604],\n",
       "   [370.8255813953489, 1093.0581395348838]]]}"
      ]
     },
     "execution_count": 18,
     "metadata": {},
     "output_type": "execute_result"
    }
   ],
   "source": [
    "part_json\n"
   ]
  },
  {
   "cell_type": "code",
   "execution_count": null,
   "metadata": {},
   "outputs": [],
   "source": []
  }
 ],
 "metadata": {
  "kernelspec": {
   "display_name": "asd",
   "language": "python",
   "name": "python3"
  },
  "language_info": {
   "codemirror_mode": {
    "name": "ipython",
    "version": 3
   },
   "file_extension": ".py",
   "mimetype": "text/x-python",
   "name": "python",
   "nbconvert_exporter": "python",
   "pygments_lexer": "ipython3",
   "version": "3.8.0"
  },
  "orig_nbformat": 4
 },
 "nbformat": 4,
 "nbformat_minor": 2
}
